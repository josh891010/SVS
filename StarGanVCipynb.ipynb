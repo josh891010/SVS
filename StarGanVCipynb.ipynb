{
  "nbformat": 4,
  "nbformat_minor": 0,
  "metadata": {
    "colab": {
      "name": "StarGanVCipynb",
      "provenance": [],
      "mount_file_id": "1LF2lGq1ZhJv7lrH8Y1ZrkdBrfD2oSPFP",
      "authorship_tag": "ABX9TyNtx6ZoMiptzkU8AqX1buLf",
      "include_colab_link": true
    },
    "kernelspec": {
      "name": "python3",
      "display_name": "Python 3"
    },
    "language_info": {
      "name": "python"
    },
    "accelerator": "GPU"
  },
  "cells": [
    {
      "cell_type": "markdown",
      "metadata": {
        "id": "view-in-github",
        "colab_type": "text"
      },
      "source": [
        "<a href=\"https://colab.research.google.com/github/josh891010/SVS/blob/main/StarGanVCipynb.ipynb\" target=\"_parent\"><img src=\"https://colab.research.google.com/assets/colab-badge.svg\" alt=\"Open In Colab\"/></a>"
      ]
    },
    {
      "cell_type": "code",
      "source": [
        ""
      ],
      "metadata": {
        "id": "6i541LfG-9sQ"
      },
      "execution_count": null,
      "outputs": []
    }
  ]
}